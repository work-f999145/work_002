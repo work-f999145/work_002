{
 "cells": [
  {
   "cell_type": "code",
   "execution_count": 170,
   "metadata": {},
   "outputs": [],
   "source": [
    "import requests\n",
    "from bs4 import BeautifulSoup as BS\n",
    "from selenium import webdriver\n",
    "import undetected_chromedriver as uc\n",
    "import json\n",
    "from pathlib import Path\n",
    "from pprint import pprint\n",
    "import copy\n",
    "import threading\n",
    "from selenium.webdriver.common.by import By \n",
    "from selenium.webdriver.support.wait import WebDriverWait\n",
    "from selenium.common.exceptions import TimeoutException, ElementNotVisibleException, ElementNotSelectableException\n",
    "import re\n",
    "from time import sleep as time_sleep"
   ]
  },
  {
   "cell_type": "code",
   "execution_count": 14,
   "metadata": {},
   "outputs": [],
   "source": [
    "proxy = {'https': 'http://45.81.76.252:8000'}\n",
    "proxy_sel = '45.81.76.252:8000'"
   ]
  },
  {
   "cell_type": "code",
   "execution_count": 6,
   "metadata": {},
   "outputs": [],
   "source": [
    "from config import cookies, headers"
   ]
  },
  {
   "cell_type": "code",
   "execution_count": 41,
   "metadata": {},
   "outputs": [],
   "source": [
    "\n",
    "\n",
    "# path = Path(\"new_folder\")\n",
    "# path.mkdir(exist_ok=True)"
   ]
  },
  {
   "cell_type": "code",
   "execution_count": 61,
   "metadata": {},
   "outputs": [],
   "source": [
    "url = 'https://lenta.com/catalog/'\n",
    "host = '/'.join(url.split('/', maxsplit=3)[:3])"
   ]
  },
  {
   "cell_type": "code",
   "execution_count": 98,
   "metadata": {},
   "outputs": [],
   "source": [
    "driver.quit()"
   ]
  },
  {
   "cell_type": "code",
   "execution_count": 104,
   "metadata": {},
   "outputs": [],
   "source": [
    "chrome_options = uc.ChromeOptions()\n",
    "chrome_options.add_argument(f'--proxy-server={proxy_sel}')\n",
    "driver = uc.Chrome(options=chrome_options)\n",
    "driver.get(url)"
   ]
  },
  {
   "cell_type": "code",
   "execution_count": 44,
   "metadata": {},
   "outputs": [],
   "source": [
    "# Сохранение ссылок на категории продуктов\n",
    "soup = BS(driver.page_source, 'html.parser')\n",
    "\n",
    "table = soup.find('div', class_='catalog-groups-grid catalog-groups-grid--small-paddings')\n",
    "link_dict = {}\n",
    "for item in table.find_all('a'):\n",
    "    name = item.get('ga-event-label')\n",
    "    href = host + item.get('href')\n",
    "    link_dict[name] = href\n",
    "link_dict\n",
    "\n",
    "# Сохраняем в JSON файл\n",
    "with open('data/category_link_dict.json', 'w', encoding='utf-8') as file:\n",
    "    file.write(json.dumps(link_dict, indent=4, ensure_ascii=False))"
   ]
  },
  {
   "cell_type": "code",
   "execution_count": 90,
   "metadata": {},
   "outputs": [],
   "source": [
    "driver.get(list(link_dict.values())[3])"
   ]
  },
  {
   "cell_type": "code",
   "execution_count": 83,
   "metadata": {},
   "outputs": [],
   "source": [
    "# driver.execute_script(f\"window.open('{list(link_dict.values())[4]}');\")\n",
    "\n",
    "# # переключиться на новое окно\n",
    "# driver.switch_to.window(driver.window_handles[1])\n",
    "\n",
    "# # выполнить действия в новом окне\n",
    "# # ...\n",
    "\n",
    "# # закрыть новое окно\n",
    "# driver.close()\n",
    "\n",
    "# # переключиться на первое окно\n",
    "# driver.switch_to.window(driver.window_handles[1])\n",
    "\n",
    "# # выполнить действия в первом окне\n",
    "# # ...\n",
    "\n",
    "# # закрыть браузер\n",
    "# driver.quit()"
   ]
  },
  {
   "cell_type": "code",
   "execution_count": 177,
   "metadata": {},
   "outputs": [],
   "source": [
    "element = driver.find_element(by=By.CLASS_NAME, value='address-container__adress-icon-container')\n",
    "element.click()\n",
    "time_sleep(0.2)\n",
    "\n",
    "element = driver.find_element(by=By.CLASS_NAME, value='store-picker-city__label')\n",
    "element.click()\n",
    "time_sleep(0.2)\n",
    "\n",
    "elements = driver.find_elements(by=By.CSS_SELECTOR, value=\"span.cities-list-item__name\")\n",
    "for el in elements:\n",
    "    if 'Липецк' in el.text:\n",
    "        el.click()\n",
    "        time_sleep(0.2)\n",
    "        break\n",
    "\n",
    "elements = driver.find_elements(by=By.CSS_SELECTOR, value='span.button__inner')\n",
    "for el in elements:\n",
    "    if 'Магазины' in el.text:\n",
    "        el.click()\n",
    "        time_sleep(0.2)\n",
    "        break\n",
    "\n",
    "elements = driver.find_element(by=By.CLASS_NAME, value='simplebar-content').find_elements(by=By.CLASS_NAME, value=\"stores-list-item__name\")\n",
    "for el in elements:\n",
    "    if 'ул. Катукова, д. 51' in el.text:\n",
    "        el.click()\n",
    "        time_sleep(0.2)\n",
    "        break\n",
    "\n",
    "element = driver.find_element(by=By.XPATH, value=\"//*[contains(text(), 'Выбрать магазин')]\")\n",
    "element.click()\n",
    "time_sleep(5)"
   ]
  },
  {
   "cell_type": "code",
   "execution_count": 178,
   "metadata": {},
   "outputs": [],
   "source": [
    "driver.quit()"
   ]
  }
 ],
 "metadata": {
  "kernelspec": {
   "display_name": "Python 3",
   "language": "python",
   "name": "python3"
  },
  "language_info": {
   "codemirror_mode": {
    "name": "ipython",
    "version": 3
   },
   "file_extension": ".py",
   "mimetype": "text/x-python",
   "name": "python",
   "nbconvert_exporter": "python",
   "pygments_lexer": "ipython3",
   "version": "3.11.3"
  },
  "orig_nbformat": 4
 },
 "nbformat": 4,
 "nbformat_minor": 2
}
