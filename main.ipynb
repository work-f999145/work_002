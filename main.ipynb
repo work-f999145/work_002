{
 "cells": [
  {
   "cell_type": "code",
   "execution_count": 1,
   "metadata": {},
   "outputs": [],
   "source": [
    "from bs4 import BeautifulSoup as BS\n",
    "import undetected_chromedriver as uc\n",
    "import json\n",
    "from selenium.webdriver.common.by import By \n",
    "from selenium.webdriver.support.wait import WebDriverWait\n",
    "from selenium.common.exceptions import TimeoutException, ElementNotVisibleException, ElementNotSelectableException, NoSuchElementException\n",
    "import re\n",
    "from time import sleep as time_sleep\n",
    "from queue import Queue\n",
    "import math\n",
    "from typing import NamedTuple\n",
    "from datetime import datetime\n",
    "from zipfile import ZipFile, ZIP_DEFLATED"
   ]
  },
  {
   "cell_type": "code",
   "execution_count": 2,
   "metadata": {},
   "outputs": [],
   "source": [
    "url = 'https://lenta.com/catalog/'\n",
    "host = '/'.join(url.split('/', maxsplit=3)[:3])"
   ]
  },
  {
   "cell_type": "code",
   "execution_count": 3,
   "metadata": {},
   "outputs": [],
   "source": [
    "class initial_driver(NamedTuple):\n",
    "    browserWidth: int\n",
    "    browserHeight: int\n",
    "    browserLeft: int\n",
    "    browserTop: int\n",
    "    proxy: str\n",
    "    start_url: str\n",
    "    \n",
    "test = initial_driver(1280, 1300, -2560, 0, '45.81.76.252:8000', url)"
   ]
  },
  {
   "cell_type": "code",
   "execution_count": 5,
   "metadata": {},
   "outputs": [],
   "source": [
    "def _start_driver(initial:initial_driver) -> uc.Chrome:\n",
    "    chrome_options = uc.ChromeOptions()\n",
    "    chrome_options.add_argument(f'--proxy-server={initial.proxy}')\n",
    "    chrome_options.add_argument(f\"--window-position={initial.browserLeft},{initial.browserTop}\")\n",
    "    chrome_options.add_argument(f\"--window-size={initial.browserWidth},{initial.browserHeight}\")\n",
    "    driver = uc.Chrome(options=chrome_options)\n",
    "    driver.get(initial.start_url)\n",
    "    time_sleep(2)\n",
    "    return driver\n",
    "\n",
    "\n"
   ]
  },
  {
   "cell_type": "code",
   "execution_count": 6,
   "metadata": {},
   "outputs": [],
   "source": [
    "# Сохранение ссылок на категории продуктов\n",
    "def _save_link_to_category(driver: uc.Chrome):\n",
    "    soup = BS(driver.page_source, 'html.parser')\n",
    "\n",
    "    table = soup.find('div', class_='catalog-groups-grid catalog-groups-grid--small-paddings')\n",
    "    link_dict = {}\n",
    "    for item in table.find_all('a'):\n",
    "        name = item.get('ga-event-label')\n",
    "        href = host + item.get('href')\n",
    "        link_dict[name] = href\n",
    "    link_dict\n",
    "\n",
    "    # Сохраняем в JSON файл\n",
    "    with open('data/category_link_dict.json', 'w', encoding='utf-8') as file:\n",
    "        file.write(json.dumps(link_dict, indent=4, ensure_ascii=False))"
   ]
  },
  {
   "cell_type": "code",
   "execution_count": 8,
   "metadata": {},
   "outputs": [],
   "source": [
    "def select_sity(driver: uc.Chrome):\n",
    "    # Заставляем Браузер выбрать на сайте интерисующий нас магазин\n",
    "    \n",
    "    # Функция ожидания, позволяет Браузеру дождаться загрузки элементов\n",
    "    wait = WebDriverWait(\n",
    "        driver,\n",
    "        timeout=40,\n",
    "        poll_frequency=1,\n",
    "        ignored_exceptions=[TimeoutException, ElementNotVisibleException, ElementNotSelectableException, NoSuchElementException])\n",
    "\n",
    "    # Тут происходит список действий необходимый для выбора магазина\n",
    "    try:\n",
    "        element = wait.until(lambda d: d.find_element(by=By.CLASS_NAME, value='address-container__adress-icon-container'))\n",
    "    except Exception as ex:\n",
    "        print('!!!select_sity 52',ex)\n",
    "    element.click()\n",
    "    \n",
    "    try:\n",
    "        element = wait.until(lambda d: d.find_element(by=By.CLASS_NAME, value='store-picker-city__label'))\n",
    "    except Exception as ex:\n",
    "        print('!!!select_sity 58',ex)\n",
    "    element.click()\n",
    "    \n",
    "    try:\n",
    "        elements = wait.until(lambda d: d.find_elements(by=By.CSS_SELECTOR, value='span.cities-list-item__name'))\n",
    "    except Exception as ex:\n",
    "        print('!!!select_sity 64',ex)\n",
    "    for el in elements:\n",
    "        if 'Липецк' in el.text:\n",
    "            el.click()\n",
    "            break\n",
    "    try:\n",
    "        elements = wait.until(lambda d: d.find_elements(by=By.CSS_SELECTOR, value='span.button__inner'))\n",
    "    except Exception as ex:\n",
    "        print('!!!select_sity 72',ex)\n",
    "    for el in elements:\n",
    "        if 'Магазины' in el.text:\n",
    "            el.click()\n",
    "            break\n",
    "    \n",
    "    try:\n",
    "        elements = wait.until(lambda d: d.find_element(by=By.CLASS_NAME, value='simplebar-content').find_elements(by=By.CLASS_NAME, value=\"stores-list-item__name\"))\n",
    "    except Exception as ex:\n",
    "        print('!!!select_sity 81',ex)\n",
    "    for el in elements:\n",
    "        if 'ул. Катукова, д. 51' in el.text:\n",
    "            el.click()\n",
    "            break\n",
    "    \n",
    "    try:\n",
    "        element = driver.find_element(by=By.XPATH, value=\"//*[contains(text(), 'Выбрать магазин')]\")\n",
    "    except Exception as ex:\n",
    "        print('!!!select_sity 90',ex)\n",
    "    element.click()\n",
    "    time_sleep(5)"
   ]
  },
  {
   "cell_type": "code",
   "execution_count": 9,
   "metadata": {},
   "outputs": [],
   "source": [
    "def _get_pagination(driver: uc.Chrome) -> int:\n",
    "    el = driver.find_element(by=By.CLASS_NAME, value='js-catalog-container')\n",
    "    catalog = json.loads(el.get_attribute('data-catalog-data'))\n",
    "    pagination = math.ceil(catalog.get('skusCount')/catalog.get('limit'))\n",
    "    return pagination"
   ]
  },
  {
   "cell_type": "code",
   "execution_count": 10,
   "metadata": {},
   "outputs": [],
   "source": [
    "def _get_queue_cat(driver: uc.Chrome) -> Queue:\n",
    "    page_url = driver.current_url\n",
    "    pagination = _get_pagination(driver)\n",
    "    my_queue = Queue()\n",
    "    for key in range(1, pagination+1):\n",
    "        my_queue.put(f'{page_url}?page={key}')\n",
    "    return my_queue"
   ]
  },
  {
   "cell_type": "code",
   "execution_count": 11,
   "metadata": {},
   "outputs": [],
   "source": [
    "def _save_pages(pages_list: list[str], name: str = 'lenta') -> None:\n",
    "    now = datetime.now()\n",
    "    formatted_date = now.strftime('%Y-%m-%d_%H-%M')\n",
    "    with ZipFile(f'data/{formatted_date}-{name}.zip', 'w', compression=ZIP_DEFLATED, compresslevel=1) as zip_file:\n",
    "        for index, page in enumerate(pages_list):\n",
    "            zip_file.writestr(f'{index:05d}.html', page)"
   ]
  },
  {
   "cell_type": "code",
   "execution_count": 12,
   "metadata": {},
   "outputs": [
    {
     "ename": "WebDriverException",
     "evalue": "Message: unknown error: cannot connect to chrome at 127.0.0.1:58295\nfrom session not created: This version of ChromeDriver only supports Chrome version 114\nCurrent browser version is 116.0.5845.110\nStacktrace:\nBacktrace:\n\tGetHandleVerifier [0x007FA813+48355]\n\t(No symbol) [0x0078C4B1]\n\t(No symbol) [0x00695358]\n\t(No symbol) [0x006B61AC]\n\t(No symbol) [0x006B06B4]\n\t(No symbol) [0x006B0491]\n\t(No symbol) [0x006E0C55]\n\t(No symbol) [0x006E093C]\n\t(No symbol) [0x006DA536]\n\t(No symbol) [0x006B82DC]\n\t(No symbol) [0x006B93DD]\n\tGetHandleVerifier [0x00A5AABD+2539405]\n\tGetHandleVerifier [0x00A9A78F+2800735]\n\tGetHandleVerifier [0x00A9456C+2775612]\n\tGetHandleVerifier [0x008851E0+616112]\n\t(No symbol) [0x00795F8C]\n\t(No symbol) [0x00792328]\n\t(No symbol) [0x0079240B]\n\t(No symbol) [0x00784FF7]\n\tBaseThreadInitThunk [0x751F7D59+25]\n\tRtlInitializeExceptionChain [0x76F4B79B+107]\n\tRtlClearBits [0x76F4B71F+191]\n",
     "output_type": "error",
     "traceback": [
      "\u001b[1;31m---------------------------------------------------------------------------\u001b[0m",
      "\u001b[1;31mWebDriverException\u001b[0m                        Traceback (most recent call last)",
      "Cell \u001b[1;32mIn[12], line 37\u001b[0m\n\u001b[0;32m     35\u001b[0m     driver\u001b[39m.\u001b[39mquit()\n\u001b[0;32m     36\u001b[0m     \u001b[39mreturn\u001b[39;00m output_list\n\u001b[1;32m---> 37\u001b[0m page_list \u001b[39m=\u001b[39m get_pages(test)\n",
      "Cell \u001b[1;32mIn[12], line 11\u001b[0m, in \u001b[0;36mget_pages\u001b[1;34m(initial_tuple)\u001b[0m\n\u001b[0;32m      8\u001b[0m \u001b[39mdef\u001b[39;00m \u001b[39mget_pages\u001b[39m(initial_tuple: initial_driver) \u001b[39m-\u001b[39m\u001b[39m>\u001b[39m \u001b[39mlist\u001b[39m:\n\u001b[0;32m      9\u001b[0m     output_list \u001b[39m=\u001b[39m []\n\u001b[1;32m---> 11\u001b[0m     driver \u001b[39m=\u001b[39m _start_driver(initial_tuple)\n\u001b[0;32m     12\u001b[0m     select_sity(driver)\n\u001b[0;32m     13\u001b[0m     count \u001b[39m=\u001b[39m \u001b[39m0\u001b[39m\n",
      "Cell \u001b[1;32mIn[5], line 6\u001b[0m, in \u001b[0;36m_start_driver\u001b[1;34m(initial)\u001b[0m\n\u001b[0;32m      4\u001b[0m chrome_options\u001b[39m.\u001b[39madd_argument(\u001b[39mf\u001b[39m\u001b[39m\"\u001b[39m\u001b[39m--window-position=\u001b[39m\u001b[39m{\u001b[39;00minitial\u001b[39m.\u001b[39mbrowserLeft\u001b[39m}\u001b[39;00m\u001b[39m,\u001b[39m\u001b[39m{\u001b[39;00minitial\u001b[39m.\u001b[39mbrowserTop\u001b[39m}\u001b[39;00m\u001b[39m\"\u001b[39m)\n\u001b[0;32m      5\u001b[0m chrome_options\u001b[39m.\u001b[39madd_argument(\u001b[39mf\u001b[39m\u001b[39m\"\u001b[39m\u001b[39m--window-size=\u001b[39m\u001b[39m{\u001b[39;00minitial\u001b[39m.\u001b[39mbrowserWidth\u001b[39m}\u001b[39;00m\u001b[39m,\u001b[39m\u001b[39m{\u001b[39;00minitial\u001b[39m.\u001b[39mbrowserHeight\u001b[39m}\u001b[39;00m\u001b[39m\"\u001b[39m)\n\u001b[1;32m----> 6\u001b[0m driver \u001b[39m=\u001b[39m uc\u001b[39m.\u001b[39;49mChrome(options\u001b[39m=\u001b[39;49mchrome_options)\n\u001b[0;32m      7\u001b[0m driver\u001b[39m.\u001b[39mget(initial\u001b[39m.\u001b[39mstart_url)\n\u001b[0;32m      8\u001b[0m time_sleep(\u001b[39m2\u001b[39m)\n",
      "File \u001b[1;32mc:\\Users\\f999145\\AppData\\Local\\Programs\\Python\\Python311\\Lib\\site-packages\\undetected_chromedriver\\__init__.py:443\u001b[0m, in \u001b[0;36mChrome.__init__\u001b[1;34m(self, options, user_data_dir, driver_executable_path, browser_executable_path, port, enable_cdp_events, desired_capabilities, advanced_elements, keep_alive, log_level, headless, version_main, patcher_force_close, suppress_welcome, use_subprocess, debug, no_sandbox, user_multi_procs, **kw)\u001b[0m\n\u001b[0;32m    436\u001b[0m     \u001b[39mself\u001b[39m\u001b[39m.\u001b[39mbrowser_pid \u001b[39m=\u001b[39m browser\u001b[39m.\u001b[39mpid\n\u001b[0;32m    439\u001b[0m service \u001b[39m=\u001b[39m selenium\u001b[39m.\u001b[39mwebdriver\u001b[39m.\u001b[39mchromium\u001b[39m.\u001b[39mservice\u001b[39m.\u001b[39mChromiumService(\n\u001b[0;32m    440\u001b[0m     \u001b[39mself\u001b[39m\u001b[39m.\u001b[39mpatcher\u001b[39m.\u001b[39mexecutable_path\n\u001b[0;32m    441\u001b[0m )\n\u001b[1;32m--> 443\u001b[0m \u001b[39msuper\u001b[39;49m(Chrome, \u001b[39mself\u001b[39;49m)\u001b[39m.\u001b[39;49m\u001b[39m__init__\u001b[39;49m(\n\u001b[0;32m    444\u001b[0m     service\u001b[39m=\u001b[39;49mservice,\n\u001b[0;32m    445\u001b[0m     options\u001b[39m=\u001b[39;49moptions,\n\u001b[0;32m    446\u001b[0m     keep_alive\u001b[39m=\u001b[39;49mkeep_alive,\n\u001b[0;32m    447\u001b[0m )\n\u001b[0;32m    449\u001b[0m \u001b[39mself\u001b[39m\u001b[39m.\u001b[39mreactor \u001b[39m=\u001b[39m \u001b[39mNone\u001b[39;00m\n\u001b[0;32m    451\u001b[0m \u001b[39mif\u001b[39;00m enable_cdp_events:\n",
      "File \u001b[1;32mc:\\Users\\f999145\\AppData\\Local\\Programs\\Python\\Python311\\Lib\\site-packages\\selenium\\webdriver\\chrome\\webdriver.py:49\u001b[0m, in \u001b[0;36mWebDriver.__init__\u001b[1;34m(self, options, service, keep_alive)\u001b[0m\n\u001b[0;32m     45\u001b[0m \u001b[39mself\u001b[39m\u001b[39m.\u001b[39mkeep_alive \u001b[39m=\u001b[39m keep_alive\n\u001b[0;32m     47\u001b[0m \u001b[39mself\u001b[39m\u001b[39m.\u001b[39mservice\u001b[39m.\u001b[39mpath \u001b[39m=\u001b[39m DriverFinder\u001b[39m.\u001b[39mget_path(\u001b[39mself\u001b[39m\u001b[39m.\u001b[39mservice, \u001b[39mself\u001b[39m\u001b[39m.\u001b[39moptions)\n\u001b[1;32m---> 49\u001b[0m \u001b[39msuper\u001b[39;49m()\u001b[39m.\u001b[39;49m\u001b[39m__init__\u001b[39;49m(\n\u001b[0;32m     50\u001b[0m     DesiredCapabilities\u001b[39m.\u001b[39;49mCHROME[\u001b[39m\"\u001b[39;49m\u001b[39mbrowserName\u001b[39;49m\u001b[39m\"\u001b[39;49m],\n\u001b[0;32m     51\u001b[0m     \u001b[39m\"\u001b[39;49m\u001b[39mgoog\u001b[39;49m\u001b[39m\"\u001b[39;49m,\n\u001b[0;32m     52\u001b[0m     \u001b[39mself\u001b[39;49m\u001b[39m.\u001b[39;49moptions,\n\u001b[0;32m     53\u001b[0m     \u001b[39mself\u001b[39;49m\u001b[39m.\u001b[39;49mservice,\n\u001b[0;32m     54\u001b[0m     \u001b[39mself\u001b[39;49m\u001b[39m.\u001b[39;49mkeep_alive,\n\u001b[0;32m     55\u001b[0m )\n",
      "File \u001b[1;32mc:\\Users\\f999145\\AppData\\Local\\Programs\\Python\\Python311\\Lib\\site-packages\\selenium\\webdriver\\chromium\\webdriver.py:54\u001b[0m, in \u001b[0;36mChromiumDriver.__init__\u001b[1;34m(self, browser_name, vendor_prefix, options, service, keep_alive)\u001b[0m\n\u001b[0;32m     51\u001b[0m \u001b[39mself\u001b[39m\u001b[39m.\u001b[39mservice\u001b[39m.\u001b[39mstart()\n\u001b[0;32m     53\u001b[0m \u001b[39mtry\u001b[39;00m:\n\u001b[1;32m---> 54\u001b[0m     \u001b[39msuper\u001b[39;49m()\u001b[39m.\u001b[39;49m\u001b[39m__init__\u001b[39;49m(\n\u001b[0;32m     55\u001b[0m         command_executor\u001b[39m=\u001b[39;49mChromiumRemoteConnection(\n\u001b[0;32m     56\u001b[0m             remote_server_addr\u001b[39m=\u001b[39;49m\u001b[39mself\u001b[39;49m\u001b[39m.\u001b[39;49mservice\u001b[39m.\u001b[39;49mservice_url,\n\u001b[0;32m     57\u001b[0m             browser_name\u001b[39m=\u001b[39;49mbrowser_name,\n\u001b[0;32m     58\u001b[0m             vendor_prefix\u001b[39m=\u001b[39;49mvendor_prefix,\n\u001b[0;32m     59\u001b[0m             keep_alive\u001b[39m=\u001b[39;49mkeep_alive,\n\u001b[0;32m     60\u001b[0m             ignore_proxy\u001b[39m=\u001b[39;49m\u001b[39mself\u001b[39;49m\u001b[39m.\u001b[39;49moptions\u001b[39m.\u001b[39;49m_ignore_local_proxy,\n\u001b[0;32m     61\u001b[0m         ),\n\u001b[0;32m     62\u001b[0m         options\u001b[39m=\u001b[39;49m\u001b[39mself\u001b[39;49m\u001b[39m.\u001b[39;49moptions,\n\u001b[0;32m     63\u001b[0m     )\n\u001b[0;32m     64\u001b[0m \u001b[39mexcept\u001b[39;00m \u001b[39mException\u001b[39;00m:\n\u001b[0;32m     65\u001b[0m     \u001b[39mself\u001b[39m\u001b[39m.\u001b[39mquit()\n",
      "File \u001b[1;32mc:\\Users\\f999145\\AppData\\Local\\Programs\\Python\\Python311\\Lib\\site-packages\\selenium\\webdriver\\remote\\webdriver.py:206\u001b[0m, in \u001b[0;36mWebDriver.__init__\u001b[1;34m(self, command_executor, keep_alive, file_detector, options)\u001b[0m\n\u001b[0;32m    204\u001b[0m \u001b[39mself\u001b[39m\u001b[39m.\u001b[39m_authenticator_id \u001b[39m=\u001b[39m \u001b[39mNone\u001b[39;00m\n\u001b[0;32m    205\u001b[0m \u001b[39mself\u001b[39m\u001b[39m.\u001b[39mstart_client()\n\u001b[1;32m--> 206\u001b[0m \u001b[39mself\u001b[39;49m\u001b[39m.\u001b[39;49mstart_session(capabilities)\n",
      "File \u001b[1;32mc:\\Users\\f999145\\AppData\\Local\\Programs\\Python\\Python311\\Lib\\site-packages\\undetected_chromedriver\\__init__.py:674\u001b[0m, in \u001b[0;36mChrome.start_session\u001b[1;34m(self, capabilities, browser_profile)\u001b[0m\n\u001b[0;32m    672\u001b[0m \u001b[39mif\u001b[39;00m \u001b[39mnot\u001b[39;00m capabilities:\n\u001b[0;32m    673\u001b[0m     capabilities \u001b[39m=\u001b[39m \u001b[39mself\u001b[39m\u001b[39m.\u001b[39moptions\u001b[39m.\u001b[39mto_capabilities()\n\u001b[1;32m--> 674\u001b[0m \u001b[39msuper\u001b[39;49m(selenium\u001b[39m.\u001b[39;49mwebdriver\u001b[39m.\u001b[39;49mchrome\u001b[39m.\u001b[39;49mwebdriver\u001b[39m.\u001b[39;49mWebDriver, \u001b[39mself\u001b[39;49m)\u001b[39m.\u001b[39;49mstart_session(\n\u001b[0;32m    675\u001b[0m     capabilities\n\u001b[0;32m    676\u001b[0m )\n",
      "File \u001b[1;32mc:\\Users\\f999145\\AppData\\Local\\Programs\\Python\\Python311\\Lib\\site-packages\\selenium\\webdriver\\remote\\webdriver.py:291\u001b[0m, in \u001b[0;36mWebDriver.start_session\u001b[1;34m(self, capabilities)\u001b[0m\n\u001b[0;32m    283\u001b[0m \u001b[39m\u001b[39m\u001b[39m\"\"\"Creates a new session with the desired capabilities.\u001b[39;00m\n\u001b[0;32m    284\u001b[0m \n\u001b[0;32m    285\u001b[0m \u001b[39m:Args:\u001b[39;00m\n\u001b[0;32m    286\u001b[0m \u001b[39m - capabilities - a capabilities dict to start the session with.\u001b[39;00m\n\u001b[0;32m    287\u001b[0m \u001b[39m - browser_profile - A selenium.webdriver.firefox.firefox_profile.FirefoxProfile object. Only used if Firefox is requested.\u001b[39;00m\n\u001b[0;32m    288\u001b[0m \u001b[39m\"\"\"\u001b[39;00m\n\u001b[0;32m    290\u001b[0m caps \u001b[39m=\u001b[39m _create_caps(capabilities)\n\u001b[1;32m--> 291\u001b[0m response \u001b[39m=\u001b[39m \u001b[39mself\u001b[39;49m\u001b[39m.\u001b[39;49mexecute(Command\u001b[39m.\u001b[39;49mNEW_SESSION, caps)[\u001b[39m\"\u001b[39m\u001b[39mvalue\u001b[39m\u001b[39m\"\u001b[39m]\n\u001b[0;32m    292\u001b[0m \u001b[39mself\u001b[39m\u001b[39m.\u001b[39msession_id \u001b[39m=\u001b[39m response\u001b[39m.\u001b[39mget(\u001b[39m\"\u001b[39m\u001b[39msessionId\u001b[39m\u001b[39m\"\u001b[39m)\n\u001b[0;32m    293\u001b[0m \u001b[39mself\u001b[39m\u001b[39m.\u001b[39mcaps \u001b[39m=\u001b[39m response\u001b[39m.\u001b[39mget(\u001b[39m\"\u001b[39m\u001b[39mcapabilities\u001b[39m\u001b[39m\"\u001b[39m)\n",
      "File \u001b[1;32mc:\\Users\\f999145\\AppData\\Local\\Programs\\Python\\Python311\\Lib\\site-packages\\selenium\\webdriver\\remote\\webdriver.py:346\u001b[0m, in \u001b[0;36mWebDriver.execute\u001b[1;34m(self, driver_command, params)\u001b[0m\n\u001b[0;32m    344\u001b[0m response \u001b[39m=\u001b[39m \u001b[39mself\u001b[39m\u001b[39m.\u001b[39mcommand_executor\u001b[39m.\u001b[39mexecute(driver_command, params)\n\u001b[0;32m    345\u001b[0m \u001b[39mif\u001b[39;00m response:\n\u001b[1;32m--> 346\u001b[0m     \u001b[39mself\u001b[39;49m\u001b[39m.\u001b[39;49merror_handler\u001b[39m.\u001b[39;49mcheck_response(response)\n\u001b[0;32m    347\u001b[0m     response[\u001b[39m\"\u001b[39m\u001b[39mvalue\u001b[39m\u001b[39m\"\u001b[39m] \u001b[39m=\u001b[39m \u001b[39mself\u001b[39m\u001b[39m.\u001b[39m_unwrap_value(response\u001b[39m.\u001b[39mget(\u001b[39m\"\u001b[39m\u001b[39mvalue\u001b[39m\u001b[39m\"\u001b[39m, \u001b[39mNone\u001b[39;00m))\n\u001b[0;32m    348\u001b[0m     \u001b[39mreturn\u001b[39;00m response\n",
      "File \u001b[1;32mc:\\Users\\f999145\\AppData\\Local\\Programs\\Python\\Python311\\Lib\\site-packages\\selenium\\webdriver\\remote\\errorhandler.py:245\u001b[0m, in \u001b[0;36mErrorHandler.check_response\u001b[1;34m(self, response)\u001b[0m\n\u001b[0;32m    243\u001b[0m         alert_text \u001b[39m=\u001b[39m value[\u001b[39m\"\u001b[39m\u001b[39malert\u001b[39m\u001b[39m\"\u001b[39m]\u001b[39m.\u001b[39mget(\u001b[39m\"\u001b[39m\u001b[39mtext\u001b[39m\u001b[39m\"\u001b[39m)\n\u001b[0;32m    244\u001b[0m     \u001b[39mraise\u001b[39;00m exception_class(message, screen, stacktrace, alert_text)  \u001b[39m# type: ignore[call-arg]  # mypy is not smart enough here\u001b[39;00m\n\u001b[1;32m--> 245\u001b[0m \u001b[39mraise\u001b[39;00m exception_class(message, screen, stacktrace)\n",
      "\u001b[1;31mWebDriverException\u001b[0m: Message: unknown error: cannot connect to chrome at 127.0.0.1:58295\nfrom session not created: This version of ChromeDriver only supports Chrome version 114\nCurrent browser version is 116.0.5845.110\nStacktrace:\nBacktrace:\n\tGetHandleVerifier [0x007FA813+48355]\n\t(No symbol) [0x0078C4B1]\n\t(No symbol) [0x00695358]\n\t(No symbol) [0x006B61AC]\n\t(No symbol) [0x006B06B4]\n\t(No symbol) [0x006B0491]\n\t(No symbol) [0x006E0C55]\n\t(No symbol) [0x006E093C]\n\t(No symbol) [0x006DA536]\n\t(No symbol) [0x006B82DC]\n\t(No symbol) [0x006B93DD]\n\tGetHandleVerifier [0x00A5AABD+2539405]\n\tGetHandleVerifier [0x00A9A78F+2800735]\n\tGetHandleVerifier [0x00A9456C+2775612]\n\tGetHandleVerifier [0x008851E0+616112]\n\t(No symbol) [0x00795F8C]\n\t(No symbol) [0x00792328]\n\t(No symbol) [0x0079240B]\n\t(No symbol) [0x00784FF7]\n\tBaseThreadInitThunk [0x751F7D59+25]\n\tRtlInitializeExceptionChain [0x76F4B79B+107]\n\tRtlClearBits [0x76F4B71F+191]\n"
     ]
    }
   ],
   "source": [
    "with open('data/category_link_dict.json', 'r', encoding='utf-8') as file:\n",
    "    link_dict = json.loads(file.read())\n",
    "\n",
    "link_queue = Queue()\n",
    "for val in link_dict.values():\n",
    "    link_queue.put(val)\n",
    "\n",
    "def get_pages(initial_tuple: initial_driver) -> list:\n",
    "    output_list = []\n",
    "    \n",
    "    driver = _start_driver(initial_tuple)\n",
    "    select_sity(driver)\n",
    "    count = 0\n",
    "    while True:\n",
    "        url = link_queue.get()\n",
    "        driver.get(url)\n",
    "        time_sleep(2)\n",
    "        cat_queue = _get_queue_cat(driver)\n",
    "        \n",
    "        while True:\n",
    "            url = cat_queue.get()\n",
    "            driver.get(url)\n",
    "            time_sleep(1)\n",
    "            output_list.append(driver.page_source)\n",
    "            \n",
    "            if cat_queue.empty():\n",
    "                break\n",
    "        \n",
    "        count += 1\n",
    "        if count == 2:\n",
    "            break\n",
    "        if link_queue.empty():\n",
    "            break\n",
    "        \n",
    "    driver.quit()\n",
    "    return output_list\n",
    "page_list = get_pages(test)"
   ]
  },
  {
   "cell_type": "code",
   "execution_count": 187,
   "metadata": {},
   "outputs": [],
   "source": [
    "_save_pages(page_list)"
   ]
  }
 ],
 "metadata": {
  "kernelspec": {
   "display_name": "Python 3",
   "language": "python",
   "name": "python3"
  },
  "language_info": {
   "codemirror_mode": {
    "name": "ipython",
    "version": 3
   },
   "file_extension": ".py",
   "mimetype": "text/x-python",
   "name": "python",
   "nbconvert_exporter": "python",
   "pygments_lexer": "ipython3",
   "version": "3.11.4"
  },
  "orig_nbformat": 4
 },
 "nbformat": 4,
 "nbformat_minor": 2
}
