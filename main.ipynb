{
 "cells": [
  {
   "cell_type": "code",
   "execution_count": 185,
   "metadata": {},
   "outputs": [],
   "source": [
    "from bs4 import BeautifulSoup as BS\n",
    "import undetected_chromedriver as uc\n",
    "import json\n",
    "from selenium.webdriver.common.by import By \n",
    "from selenium.webdriver.support.wait import WebDriverWait\n",
    "from selenium.common.exceptions import TimeoutException, ElementNotVisibleException, ElementNotSelectableException, NoSuchElementException\n",
    "import re\n",
    "from time import sleep as time_sleep\n",
    "from queue import Queue\n",
    "import math\n",
    "from typing import NamedTuple\n",
    "from datetime import datetime\n",
    "from zipfile import ZipFile, ZIP_DEFLATED"
   ]
  },
  {
   "cell_type": "code",
   "execution_count": 2,
   "metadata": {},
   "outputs": [],
   "source": [
    "proxy = {'https': 'http://45.81.76.252:8000'}\n",
    "proxy_sel = '45.81.76.252:8000'"
   ]
  },
  {
   "cell_type": "code",
   "execution_count": 3,
   "metadata": {},
   "outputs": [],
   "source": [
    "url = 'https://lenta.com/catalog/'\n",
    "host = '/'.join(url.split('/', maxsplit=3)[:3])"
   ]
  },
  {
   "cell_type": "code",
   "execution_count": 139,
   "metadata": {},
   "outputs": [],
   "source": [
    "class initial_driver(NamedTuple):\n",
    "    browserWidth: int\n",
    "    browserHeight: int\n",
    "    browserLeft: int\n",
    "    browserTop: int\n",
    "    proxy: str\n",
    "    start_url: str\n",
    "    \n",
    "test = initial_driver(1280, 1300, -2560, 0, '45.81.76.252:8000', 'https://lenta.com/catalog/')"
   ]
  },
  {
   "cell_type": "code",
   "execution_count": 140,
   "metadata": {},
   "outputs": [],
   "source": [
    "def _start_driver(initial:initial_driver) -> uc.Chrome:\n",
    "    chrome_options = uc.ChromeOptions()\n",
    "    chrome_options.add_argument(f'--proxy-server={initial.proxy}')\n",
    "    chrome_options.add_argument(f\"--window-position={initial.browserLeft},{initial.browserTop}\")\n",
    "    chrome_options.add_argument(f\"--window-size={initial.browserWidth},{initial.browserHeight}\")\n",
    "    driver = uc.Chrome(options=chrome_options)\n",
    "    driver.get(initial.start_url)\n",
    "    time_sleep(2)\n",
    "    return driver\n",
    "\n",
    "\n"
   ]
  },
  {
   "cell_type": "code",
   "execution_count": 44,
   "metadata": {},
   "outputs": [],
   "source": [
    "# Сохранение ссылок на категории продуктов\n",
    "soup = BS(driver.page_source, 'html.parser')\n",
    "\n",
    "table = soup.find('div', class_='catalog-groups-grid catalog-groups-grid--small-paddings')\n",
    "link_dict = {}\n",
    "for item in table.find_all('a'):\n",
    "    name = item.get('ga-event-label')\n",
    "    href = host + item.get('href')\n",
    "    link_dict[name] = href\n",
    "link_dict\n",
    "\n",
    "# Сохраняем в JSON файл\n",
    "with open('data/category_link_dict.json', 'w', encoding='utf-8') as file:\n",
    "    file.write(json.dumps(link_dict, indent=4, ensure_ascii=False))"
   ]
  },
  {
   "cell_type": "code",
   "execution_count": 165,
   "metadata": {},
   "outputs": [],
   "source": [
    "def select_sity(driver: uc.Chrome):\n",
    "    wait = WebDriverWait(\n",
    "        driver,\n",
    "        timeout=40,\n",
    "        poll_frequency=1,\n",
    "        ignored_exceptions=[TimeoutException, ElementNotVisibleException, ElementNotSelectableException, NoSuchElementException])\n",
    "\n",
    "    element = wait.until(lambda d: d.find_element(by=By.CLASS_NAME, value='address-container__adress-icon-container'))\n",
    "    \n",
    "    \n",
    "    # element = driver.find_element(by=By.CLASS_NAME, value='address-container__adress-icon-container')\n",
    "    element.click()\n",
    "    # time_sleep(1)\n",
    "\n",
    "    element = driver.find_element(by=By.CLASS_NAME, value='store-picker-city__label')\n",
    "    element = wait.until(lambda d: d.find_element(by=By.CLASS_NAME, value='store-picker-city__label'))\n",
    "    element.click()\n",
    "    # time_sleep(1)\n",
    "\n",
    "    # elements = driver.find_elements(by=By.CSS_SELECTOR, value=\"span.cities-list-item__name\")\n",
    "    elements = wait.until(lambda d: d.find_elements(by=By.CSS_SELECTOR, value='span.cities-list-item__name'))\n",
    "    for el in elements:\n",
    "        if 'Липецк' in el.text:\n",
    "            el.click()\n",
    "            # time_sleep(1)\n",
    "            break\n",
    "\n",
    "    # elements = driver.find_elements(by=By.CSS_SELECTOR, value='span.button__inner')\n",
    "    elements = wait.until(lambda d: d.find_elements(by=By.CSS_SELECTOR, value='span.button__inner'))\n",
    "    for el in elements:\n",
    "        if 'Магазины' in el.text:\n",
    "            el.click()\n",
    "            # time_sleep(1)\n",
    "            break\n",
    "\n",
    "    # elements = driver.find_element(by=By.CLASS_NAME, value='simplebar-content').find_elements(by=By.CLASS_NAME, value=\"stores-list-item__name\")\n",
    "    elements = wait.until(lambda d: d.find_element(by=By.CLASS_NAME, value='simplebar-content').find_elements(by=By.CLASS_NAME, value=\"stores-list-item__name\"))\n",
    "    for el in elements:\n",
    "        if 'ул. Катукова, д. 51' in el.text:\n",
    "            el.click()\n",
    "            # time_sleep(1)\n",
    "            break\n",
    "\n",
    "    element = driver.find_element(by=By.XPATH, value=\"//*[contains(text(), 'Выбрать магазин')]\")\n",
    "    element.click()\n",
    "    time_sleep(5)"
   ]
  },
  {
   "cell_type": "code",
   "execution_count": 167,
   "metadata": {},
   "outputs": [],
   "source": [
    "driver.quit()"
   ]
  },
  {
   "cell_type": "code",
   "execution_count": 115,
   "metadata": {},
   "outputs": [],
   "source": [
    "soup = BS(driver.page_source, 'html.parser')\n",
    "\n",
    "table = soup.find('div', class_='catalog-groups-grid catalog-groups-grid--small-paddings')\n",
    "link_dict = {}\n",
    "my_queue = Queue()\n",
    "for item in table.find_all('a'):\n",
    "    name = item.get('ga-event-label')\n",
    "    href = host + item.get('href')\n",
    "    link_dict[name] = href\n",
    "    my_queue.put(href)"
   ]
  },
  {
   "cell_type": "code",
   "execution_count": 116,
   "metadata": {},
   "outputs": [],
   "source": [
    "if my_queue.empty():\n",
    "    driver.get(url)\n",
    "else:\n",
    "    driver.get(my_queue.get())\n",
    "    time_sleep(1)"
   ]
  },
  {
   "cell_type": "code",
   "execution_count": 170,
   "metadata": {},
   "outputs": [],
   "source": [
    "def _get_pagination(driver: uc.Chrome) -> int:\n",
    "    el = driver.find_element(by=By.CLASS_NAME, value='js-catalog-container')\n",
    "    catalog = json.loads(el.get_attribute('data-catalog-data'))\n",
    "    pagination = math.ceil(catalog.get('skusCount')/catalog.get('limit'))\n",
    "    return pagination"
   ]
  },
  {
   "cell_type": "code",
   "execution_count": 172,
   "metadata": {},
   "outputs": [],
   "source": [
    "def _get_queue_cat(driver: uc.Chrome) -> Queue:\n",
    "    page_url = driver.current_url\n",
    "    pagination = _get_pagination(driver)\n",
    "    my_queue = Queue()\n",
    "    for key in range(1, pagination+1):\n",
    "        my_queue.put(f'{page_url}?page={key}')\n",
    "    return my_queue"
   ]
  },
  {
   "cell_type": "code",
   "execution_count": 186,
   "metadata": {},
   "outputs": [],
   "source": [
    "def _save_pages(pages_list: list[str], name: str = 'lenta') -> None:\n",
    "    now = datetime.now()\n",
    "    formatted_date = now.strftime('%Y-%m-%d_%H-%M')\n",
    "    with ZipFile(f'data/{formatted_date}-{name}.zip', 'w', compression=ZIP_DEFLATED, compresslevel=1) as zip_file:\n",
    "        for index, page in enumerate(pages_list):\n",
    "            zip_file.writestr(f'{index:05d}.html', page)"
   ]
  },
  {
   "cell_type": "code",
   "execution_count": 175,
   "metadata": {},
   "outputs": [],
   "source": [
    "with open('data/category_link_dict.json', 'r', encoding='utf-8') as file:\n",
    "    link_dict = json.loads(file.read())\n",
    "\n",
    "link_queue = Queue()\n",
    "for val in link_dict.values():\n",
    "    link_queue.put(val)\n",
    "\n",
    "def get_pages(initial_tuple: initial_driver) -> list:\n",
    "    output_list = []\n",
    "    \n",
    "    driver = _start_driver(initial_tuple)\n",
    "    select_sity(driver)\n",
    "    count = 0\n",
    "    while True:\n",
    "        url = link_queue.get()\n",
    "        driver.get(url)\n",
    "        time_sleep(2)\n",
    "        cat_queue = _get_queue_cat(driver)\n",
    "        \n",
    "        while True:\n",
    "            url = cat_queue.get()\n",
    "            driver.get(url)\n",
    "            time_sleep(1)\n",
    "            output_list.append(driver.page_source)\n",
    "            \n",
    "            if cat_queue.empty():\n",
    "                break\n",
    "        \n",
    "        count += 1\n",
    "        if count == 2:\n",
    "            break\n",
    "        if link_queue.empty():\n",
    "            break\n",
    "        \n",
    "    driver.quit()\n",
    "    return output_list\n",
    "page_list = get_pages(test)"
   ]
  },
  {
   "cell_type": "code",
   "execution_count": 187,
   "metadata": {},
   "outputs": [],
   "source": [
    "_save_pages(page_list)"
   ]
  }
 ],
 "metadata": {
  "kernelspec": {
   "display_name": "Python 3",
   "language": "python",
   "name": "python3"
  },
  "language_info": {
   "codemirror_mode": {
    "name": "ipython",
    "version": 3
   },
   "file_extension": ".py",
   "mimetype": "text/x-python",
   "name": "python",
   "nbconvert_exporter": "python",
   "pygments_lexer": "ipython3",
   "version": "3.11.3"
  },
  "orig_nbformat": 4
 },
 "nbformat": 4,
 "nbformat_minor": 2
}
