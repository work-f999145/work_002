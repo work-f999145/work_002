{
 "cells": [
  {
   "cell_type": "code",
   "execution_count": 1,
   "metadata": {},
   "outputs": [],
   "source": [
    "\"\"\"\n",
    "    Тестирование подгрузку новых элементов, вместо перехода на новую страницу\n",
    "\"\"\";"
   ]
  },
  {
   "cell_type": "code",
   "execution_count": 15,
   "metadata": {},
   "outputs": [],
   "source": [
    "from bs4 import BeautifulSoup as BS\n",
    "import undetected_chromedriver as uc\n",
    "import json\n",
    "from selenium.webdriver.common.by import By \n",
    "from selenium.webdriver.support.wait import WebDriverWait\n",
    "from selenium.common.exceptions import TimeoutException, ElementNotVisibleException, ElementNotSelectableException, NoSuchElementException\n",
    "import re\n",
    "from time import sleep as time_sleep\n",
    "from queue import Queue\n",
    "import math\n",
    "from typing import NamedTuple\n",
    "from datetime import datetime\n",
    "from zipfile import ZipFile, ZIP_DEFLATED\n",
    "from executable.config import drive_1, drive_2\n",
    "from executable.bearing import _start_driver, select_sity, _get_links_queue, _get_pagination\n",
    "from random import randint"
   ]
  },
  {
   "cell_type": "code",
   "execution_count": 16,
   "metadata": {},
   "outputs": [],
   "source": [
    "driver = _start_driver(drive_2)\n",
    "select_sity(driver)\n",
    "que = _get_links_queue()"
   ]
  },
  {
   "cell_type": "code",
   "execution_count": 19,
   "metadata": {},
   "outputs": [],
   "source": [
    "url = que.get()\n",
    "driver.get(url)"
   ]
  },
  {
   "cell_type": "code",
   "execution_count": 20,
   "metadata": {},
   "outputs": [],
   "source": [
    "while True:\n",
    "    try:\n",
    "        element = driver.find_element(by=By.CLASS_NAME, value='catalog-grid__pagination')\n",
    "    except NoSuchElementException:\n",
    "        break\n",
    "    else:\n",
    "        element.click()\n",
    "    # time_sleep(randint(2,4))"
   ]
  },
  {
   "cell_type": "code",
   "execution_count": 75,
   "metadata": {},
   "outputs": [],
   "source": [
    "driver.quit()"
   ]
  },
  {
   "cell_type": "code",
   "execution_count": 87,
   "metadata": {},
   "outputs": [
    {
     "name": "stdout",
     "output_type": "stream",
     "text": [
      "901\n",
      "38\n"
     ]
    }
   ],
   "source": [
    "el = driver.find_element(by=By.CLASS_NAME, value='js-catalog-container')\n",
    "catalog = json.loads(el.get_attribute('data-catalog-data'))\n",
    "print(catalog.get('skusCount'))\n",
    "print(math.ceil(catalog.get('skusCount')/24))"
   ]
  },
  {
   "cell_type": "code",
   "execution_count": 91,
   "metadata": {},
   "outputs": [
    {
     "data": {
      "text/plain": [
       "739"
      ]
     },
     "execution_count": 91,
     "metadata": {},
     "output_type": "execute_result"
    }
   ],
   "source": [
    "soup = BS(driver.page_source, 'lxml')\n",
    "table = soup.find('div', class_='catalog-grid__grid catalog-grid')\n",
    "carts = table.find_all('a', class_='lui-card lui-sku-product-card sku-card-small-container catalog-grid-sku-product-card')\n",
    "len(carts)"
   ]
  },
  {
   "cell_type": "code",
   "execution_count": null,
   "metadata": {},
   "outputs": [],
   "source": [
    "739"
   ]
  }
 ],
 "metadata": {
  "kernelspec": {
   "display_name": "Python 3",
   "language": "python",
   "name": "python3"
  },
  "language_info": {
   "codemirror_mode": {
    "name": "ipython",
    "version": 3
   },
   "file_extension": ".py",
   "mimetype": "text/x-python",
   "name": "python",
   "nbconvert_exporter": "python",
   "pygments_lexer": "ipython3",
   "version": "3.11.3"
  },
  "orig_nbformat": 4
 },
 "nbformat": 4,
 "nbformat_minor": 2
}
