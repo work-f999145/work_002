{
 "cells": [
  {
   "cell_type": "code",
   "execution_count": 52,
   "metadata": {},
   "outputs": [],
   "source": [
    "from bs4 import BeautifulSoup as BS\n",
    "import undetected_chromedriver as uc\n",
    "import json\n",
    "from selenium.webdriver.common.by import By \n",
    "from selenium.webdriver.support.wait import WebDriverWait\n",
    "from selenium.common.exceptions import TimeoutException, ElementNotVisibleException, ElementNotSelectableException, NoSuchElementException\n",
    "import re\n",
    "from time import sleep as time_sleep\n",
    "from queue import Queue\n",
    "import math\n",
    "from typing import NamedTuple\n",
    "from datetime import datetime\n",
    "from zipfile import ZipFile, ZIP_DEFLATED\n",
    "from pathlib import Path\n",
    "import lxml\n",
    "import pandas as pd\n",
    "import numpy as np"
   ]
  },
  {
   "cell_type": "code",
   "execution_count": 2,
   "metadata": {},
   "outputs": [
    {
     "name": "stdout",
     "output_type": "stream",
     "text": [
      "[WindowsPath('data/2023-04-25_00-30-lenta.zip')]\n",
      "data\\2023-04-25_00-30-lenta.zip\n"
     ]
    }
   ],
   "source": [
    "folder_path = Path('data')\n",
    "zip_files = list(folder_path.glob('*.zip'))\n",
    "print(zip_files)\n",
    "zip_file = zip_files[0]\n",
    "print(zip_file)"
   ]
  },
  {
   "cell_type": "code",
   "execution_count": 34,
   "metadata": {},
   "outputs": [],
   "source": [
    "pages_list = []\n",
    "with ZipFile(zip_file, 'r') as zf:\n",
    "    for item in zf.filelist:\n",
    "        with zf.open(item.filename) as file:\n",
    "            pages_list.append(file.read())"
   ]
  },
  {
   "cell_type": "code",
   "execution_count": 36,
   "metadata": {},
   "outputs": [],
   "source": [
    "pages_list = pages_list[300:400]"
   ]
  },
  {
   "cell_type": "code",
   "execution_count": 13,
   "metadata": {},
   "outputs": [
    {
     "data": {
      "text/plain": [
       "24    99\n",
       "23     1\n",
       "dtype: int64"
      ]
     },
     "execution_count": 13,
     "metadata": {},
     "output_type": "execute_result"
    }
   ],
   "source": [
    "def _test_01(page: str):\n",
    "    soup = BS(page, 'lxml')\n",
    "    table = soup.find('div', class_='catalog-grid__grid catalog-grid').find_all('a', class_='lui-card lui-sku-product-card sku-card-small-container catalog-grid-sku-product-card')\n",
    "    return len(table)\n",
    "\n",
    "test = []\n",
    "for page in pages_list:\n",
    "    test.append(_test_01(page))\n",
    "    \n",
    "df = pd.Series(test)\n",
    "df.value_counts()"
   ]
  },
  {
   "cell_type": "code",
   "execution_count": 11,
   "metadata": {},
   "outputs": [],
   "source": [
    "\"\"\"\n",
    "Отлично, количество плиток не превышает 24 плитки.\n",
    "Также нужно определиться что бужем загружать из карточек:\n",
    "    Название,\n",
    "    Категория,\n",
    "    Производитель,\n",
    "    Цена по карте,\n",
    "    Обычная цена,\n",
    "    Скидка, если есть\n",
    "    Количество...\n",
    "\"\"\";"
   ]
  },
  {
   "cell_type": "code",
   "execution_count": 17,
   "metadata": {},
   "outputs": [
    {
     "data": {
      "text/plain": [
       "0      [lui-card, lui-sku-product-card, sku-card-smal...\n",
       "1      [lui-card, lui-sku-product-card, sku-card-smal...\n",
       "2      [lui-card, lui-sku-product-card, sku-card-smal...\n",
       "3      [lui-card, lui-sku-product-card, sku-card-smal...\n",
       "4      [lui-card, lui-sku-product-card, sku-card-smal...\n",
       "                             ...                        \n",
       "271    [lui-card, lui-sku-product-card, sku-card-smal...\n",
       "272    [lui-card, lui-sku-product-card, sku-card-smal...\n",
       "273    [lui-card, lui-sku-product-card, sku-card-smal...\n",
       "274    [lui-card, lui-sku-product-card, sku-card-smal...\n",
       "275    [lui-card, lui-sku-product-card, sku-card-smal...\n",
       "Length: 276, dtype: object"
      ]
     },
     "execution_count": 17,
     "metadata": {},
     "output_type": "execute_result"
    }
   ],
   "source": [
    "def _test_02(page: str):\n",
    "    out_list = []\n",
    "    soup = BS(page, 'lxml')\n",
    "    table = soup.find('div', class_='catalog-grid__grid catalog-grid').find_all('a', class_='lui-card lui-sku-product-card sku-card-small-container catalog-grid-sku-product-card')\n",
    "    for item in table:\n",
    "        for it in item.find_next_siblings():\n",
    "            out_list.append(it.get('class'))\n",
    "    \n",
    "    return out_list\n",
    "\n",
    "test = []\n",
    "for page in pages_list[:1]:\n",
    "    test.append(_test_02(page))\n",
    "\n",
    "test = sum(test, [])\n",
    "df = pd.Series(test)\n",
    "df"
   ]
  },
  {
   "cell_type": "code",
   "execution_count": 30,
   "metadata": {},
   "outputs": [],
   "source": [
    "def _test_03(page):\n",
    "    out_list = []\n",
    "    soup = BS(page, 'lxml')\n",
    "    table = soup.find('div', class_='catalog-grid__grid catalog-grid')\n",
    "    cards = table.find_all('a', class_='lui-card lui-sku-product-card sku-card-small-container catalog-grid-sku-product-card')\n",
    "    for item in cards:\n",
    "        element = item.find('div')\n",
    "        out_list.append(element.get('class'))\n",
    "        outers_elements = element.find_next_siblings()\n",
    "        for elem in outers_elements:\n",
    "            out_list.append(elem.get('class'))\n",
    "    return out_list"
   ]
  },
  {
   "cell_type": "code",
   "execution_count": 35,
   "metadata": {},
   "outputs": [
    {
     "data": {
      "text/plain": [
       "[lui-sku-product-card-preview]                                            30888\n",
       "[lui-sku-product-card-text, lui-sku-product-card-text--view-primary]      30888\n",
       "[lui-sku-product-card-text, lui-sku-product-card-text--view-secondary]    30888\n",
       "[lui-sku-product-card-price]                                              30888\n",
       "[sku-client-card-small-control, lui-sku-product-card-control]             30888\n",
       "dtype: int64"
      ]
     },
     "execution_count": 35,
     "metadata": {},
     "output_type": "execute_result"
    }
   ],
   "source": [
    "\n",
    "result = []\n",
    "for page in pages_list:\n",
    "    result.append(_test_03(page))\n",
    "result = sum(result, [])\n",
    "\n",
    "df = pd.Series(result)\n",
    "df.value_counts()"
   ]
  },
  {
   "cell_type": "code",
   "execution_count": 37,
   "metadata": {},
   "outputs": [],
   "source": [
    "\"\"\"\n",
    "    Проанализировав весь сайт, выяснили, что в карточке товара есть пять классов с информацией.\n",
    "    lui-sku-product-card-preview        Здесь можно взять количество звезд (нафиг нада конечно)\n",
    "                                        Так же указание на скидку\n",
    "    lui-sku-product-card-text, lui-sku-product-card-text--view-primary      Здесь назвиние продукта\n",
    "    lui-sku-product-card-text, lui-sku-product-card-text--view-secondary    Здесь страна производитель\n",
    "    lui-sku-product-card-price      Здесь текущая цена и по карте\n",
    "    Пока все\n",
    "\"\"\";"
   ]
  },
  {
   "cell_type": "code",
   "execution_count": 93,
   "metadata": {},
   "outputs": [
    {
     "data": {
      "text/html": [
       "<div>\n",
       "<style scoped>\n",
       "    .dataframe tbody tr th:only-of-type {\n",
       "        vertical-align: middle;\n",
       "    }\n",
       "\n",
       "    .dataframe tbody tr th {\n",
       "        vertical-align: top;\n",
       "    }\n",
       "\n",
       "    .dataframe thead th {\n",
       "        text-align: right;\n",
       "    }\n",
       "</style>\n",
       "<table border=\"1\" class=\"dataframe\">\n",
       "  <thead>\n",
       "    <tr style=\"text-align: right;\">\n",
       "      <th></th>\n",
       "      <th>Название</th>\n",
       "      <th>Страна</th>\n",
       "      <th>Скидка</th>\n",
       "      <th>Цена</th>\n",
       "      <th>Цена по карте</th>\n",
       "    </tr>\n",
       "  </thead>\n",
       "  <tbody>\n",
       "    <tr>\n",
       "      <th>0</th>\n",
       "      <td>Смесь для супа ТРАПЕЗА На первое Рассольник, 130г</td>\n",
       "      <td>Россия, 130 г</td>\n",
       "      <td>NaN</td>\n",
       "      <td>119.99</td>\n",
       "      <td>126.39</td>\n",
       "    </tr>\n",
       "  </tbody>\n",
       "</table>\n",
       "</div>"
      ],
      "text/plain": [
       "                                            Название         Страна  Скидка  \\\n",
       "0  Смесь для супа ТРАПЕЗА На первое Рассольник, 130г  Россия, 130 г     NaN   \n",
       "\n",
       "     Цена  Цена по карте  \n",
       "0  119.99         126.39  "
      ]
     },
     "metadata": {},
     "output_type": "display_data"
    }
   ],
   "source": [
    "page = pages_list[0]\n",
    "\n",
    "soup = BS(page, 'lxml')\n",
    "table = soup.find('div', class_='catalog-grid__grid catalog-grid')\n",
    "cards = table.find_all('a', class_='lui-card lui-sku-product-card sku-card-small-container catalog-grid-sku-product-card')\n",
    "# card = table.find('a', class_='lui-card lui-sku-product-card sku-card-small-container catalog-grid-sku-product-card')\n",
    "def _get_products(card: BS) -> pd.DataFrame:\n",
    "    # Скидка если есть\n",
    "    sale = card.find('div', class_='lui-sku-product-card-preview').find('span', class_='lui-badge lui-badge_discount') # Нужно проверить на большом количестве\n",
    "    try:\n",
    "        sale = sale.text\n",
    "    except AttributeError as ex:\n",
    "        sale = np.nan\n",
    "    # Название продукта\n",
    "    name = card.find('div', class_='lui-sku-product-card-text lui-sku-product-card-text--view-primary').get_text(strip=True)\n",
    "\n",
    "    # Страна производитель\n",
    "    made_in = card.find('div', class_='lui-sku-product-card-text lui-sku-product-card-text--view-secondary').get_text(strip=True)\n",
    "\n",
    "    # Цены\n",
    "    price = card.find('div', class_='lui-sku-product-card-price').find('div', class_='lui-priceText lui-priceText--view_secondary').stripped_strings\n",
    "    try:\n",
    "        price = float('.'.join(list(price)[:2]))\n",
    "    except Exception as ex:\n",
    "        print(ex, 'price', price)\n",
    "        price = np.nan\n",
    "\n",
    "    price_on_cart = card.find('div', class_='lui-sku-product-card-price').find('div', class_='lui-priceText lui-priceText--view_regular').stripped_strings\n",
    "    try:\n",
    "        price_on_cart = float('.'.join(list(price_on_cart)[:2]))\n",
    "    except Exception as ex:\n",
    "        print(ex, 'price_on_cart', price_on_cart)\n",
    "        price_on_cart = np.nan\n",
    "    df = pd.DataFrame([[name, made_in, sale, price, price_on_cart]], columns=['Название', 'Страна', 'Скидка', 'Цена', 'Цена по карте'])\n",
    "    return df\n",
    "\n",
    "test = _get_products(table)\n",
    "display(test)"
   ]
  },
  {
   "cell_type": "code",
   "execution_count": 97,
   "metadata": {},
   "outputs": [
    {
     "data": {
      "text/plain": [
       "'Бакалея'"
      ]
     },
     "execution_count": 97,
     "metadata": {},
     "output_type": "execute_result"
    }
   ],
   "source": [
    "category = soup.find('div', class_='catalog-view__header').find('h1', class_='catalog-view__title').get_text(strip=True)\n",
    "(category)"
   ]
  }
 ],
 "metadata": {
  "kernelspec": {
   "display_name": "Python 3",
   "language": "python",
   "name": "python3"
  },
  "language_info": {
   "codemirror_mode": {
    "name": "ipython",
    "version": 3
   },
   "file_extension": ".py",
   "mimetype": "text/x-python",
   "name": "python",
   "nbconvert_exporter": "python",
   "pygments_lexer": "ipython3",
   "version": "3.11.3"
  },
  "orig_nbformat": 4
 },
 "nbformat": 4,
 "nbformat_minor": 2
}
