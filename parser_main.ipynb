{
 "cells": [
  {
   "cell_type": "code",
   "execution_count": 2,
   "metadata": {},
   "outputs": [],
   "source": [
    "from bs4 import BeautifulSoup as BS\n",
    "import undetected_chromedriver as uc\n",
    "import json\n",
    "from selenium.webdriver.common.by import By \n",
    "from selenium.webdriver.support.wait import WebDriverWait\n",
    "from selenium.common.exceptions import TimeoutException, ElementNotVisibleException, ElementNotSelectableException, NoSuchElementException\n",
    "import re\n",
    "from time import sleep as time_sleep\n",
    "from queue import Queue\n",
    "import math\n",
    "from typing import NamedTuple\n",
    "from datetime import datetime\n",
    "from zipfile import ZipFile, ZIP_DEFLATED\n",
    "from pathlib import Path\n",
    "import lxml\n",
    "import pandas as pd\n",
    "import numpy as np"
   ]
  },
  {
   "cell_type": "code",
   "execution_count": 28,
   "metadata": {},
   "outputs": [
    {
     "name": "stdout",
     "output_type": "stream",
     "text": [
      "[WindowsPath('data/2023-04-25_00-30-lenta.zip')]\n",
      "c:\\works\\work_002\\data\\2023-04-25_00-30-lenta.zip\n"
     ]
    }
   ],
   "source": [
    "folder_path = Path('data')\n",
    "zip_files = list(folder_path.glob('*.zip'))\n",
    "print(zip_files)\n",
    "zip_file = zip_files[0].absolute()\n",
    "print(zip_file)"
   ]
  },
  {
   "cell_type": "code",
   "execution_count": 91,
   "metadata": {},
   "outputs": [
    {
     "name": "stdout",
     "output_type": "stream",
     "text": [
      "<class 'pandas.core.frame.DataFrame'>\n",
      "Int64Index: 30536 entries, 0 to 30535\n",
      "Data columns (total 6 columns):\n",
      " #   Column         Non-Null Count  Dtype  \n",
      "---  ------         --------------  -----  \n",
      " 0   Категория      30536 non-null  object \n",
      " 1   Название       30536 non-null  object \n",
      " 2   Страна         30536 non-null  object \n",
      " 3   Скидка         15277 non-null  object \n",
      " 4   Цена           30536 non-null  float64\n",
      " 5   Цена по карте  30534 non-null  float64\n",
      "dtypes: float64(2), object(4)\n",
      "memory usage: 1.6+ MB\n"
     ]
    }
   ],
   "source": [
    "result = !python executable/parser.py {zip_file} # type: ignore\n",
    "result = pd.read_json(result[0])\n",
    "result.info()"
   ]
  },
  {
   "cell_type": "code",
   "execution_count": 93,
   "metadata": {},
   "outputs": [
    {
     "data": {
      "text/html": [
       "<div>\n",
       "<style scoped>\n",
       "    .dataframe tbody tr th:only-of-type {\n",
       "        vertical-align: middle;\n",
       "    }\n",
       "\n",
       "    .dataframe tbody tr th {\n",
       "        vertical-align: top;\n",
       "    }\n",
       "\n",
       "    .dataframe thead th {\n",
       "        text-align: right;\n",
       "    }\n",
       "</style>\n",
       "<table border=\"1\" class=\"dataframe\">\n",
       "  <thead>\n",
       "    <tr style=\"text-align: right;\">\n",
       "      <th></th>\n",
       "      <th>Категория</th>\n",
       "      <th>Название</th>\n",
       "      <th>Страна</th>\n",
       "      <th>Скидка</th>\n",
       "      <th>Цена</th>\n",
       "      <th>Цена по карте</th>\n",
       "    </tr>\n",
       "  </thead>\n",
       "  <tbody>\n",
       "    <tr>\n",
       "      <th>0</th>\n",
       "      <td>Новинки</td>\n",
       "      <td>Шампунь для волос EVOLUDERM Delice karite, 400мл</td>\n",
       "      <td>Франция, 400 мл</td>\n",
       "      <td>-30%</td>\n",
       "      <td>347.39</td>\n",
       "      <td>239.99</td>\n",
       "    </tr>\n",
       "    <tr>\n",
       "      <th>1</th>\n",
       "      <td>Новинки</td>\n",
       "      <td>Шампунь для волос EVOLUDERM Huile precieuse, 4...</td>\n",
       "      <td>Франция, 400 мл</td>\n",
       "      <td>-30%</td>\n",
       "      <td>347.39</td>\n",
       "      <td>239.99</td>\n",
       "    </tr>\n",
       "    <tr>\n",
       "      <th>2</th>\n",
       "      <td>Новинки</td>\n",
       "      <td>Сырок творожный глазированный DELISSE с начинк...</td>\n",
       "      <td>Россия, 40 г</td>\n",
       "      <td>None</td>\n",
       "      <td>35.79</td>\n",
       "      <td>33.99</td>\n",
       "    </tr>\n",
       "    <tr>\n",
       "      <th>3</th>\n",
       "      <td>Новинки</td>\n",
       "      <td>Мицеллярная вода EVOLUDERM Reactive skins, 250мл</td>\n",
       "      <td>Франция, 250 мл</td>\n",
       "      <td>-34%</td>\n",
       "      <td>305.29</td>\n",
       "      <td>199.99</td>\n",
       "    </tr>\n",
       "    <tr>\n",
       "      <th>4</th>\n",
       "      <td>Новинки</td>\n",
       "      <td>Кондиционер для волос EVOLUDERM Huile precieus...</td>\n",
       "      <td>Франция, 200 мл</td>\n",
       "      <td>-30%</td>\n",
       "      <td>284.29</td>\n",
       "      <td>198.99</td>\n",
       "    </tr>\n",
       "  </tbody>\n",
       "</table>\n",
       "</div>"
      ],
      "text/plain": [
       "  Категория                                           Название  \\\n",
       "0   Новинки   Шампунь для волос EVOLUDERM Delice karite, 400мл   \n",
       "1   Новинки  Шампунь для волос EVOLUDERM Huile precieuse, 4...   \n",
       "2   Новинки  Сырок творожный глазированный DELISSE с начинк...   \n",
       "3   Новинки   Мицеллярная вода EVOLUDERM Reactive skins, 250мл   \n",
       "4   Новинки  Кондиционер для волос EVOLUDERM Huile precieus...   \n",
       "\n",
       "            Страна Скидка    Цена  Цена по карте  \n",
       "0  Франция, 400 мл   -30%  347.39         239.99  \n",
       "1  Франция, 400 мл   -30%  347.39         239.99  \n",
       "2     Россия, 40 г   None   35.79          33.99  \n",
       "3  Франция, 250 мл   -34%  305.29         199.99  \n",
       "4  Франция, 200 мл   -30%  284.29         198.99  "
      ]
     },
     "execution_count": 93,
     "metadata": {},
     "output_type": "execute_result"
    }
   ],
   "source": [
    "result.head()"
   ]
  },
  {
   "cell_type": "code",
   "execution_count": 95,
   "metadata": {},
   "outputs": [],
   "source": [
    "now = datetime.now()\n",
    "formatted_date = now.strftime('%Y-%m-%d_%H-%M')\n",
    "folder = Path('data')\n",
    "file = f'{formatted_date}-lenta.csv'\n",
    "path_to_file = folder.joinpath(file)\n",
    "# compression_opts = dict(method='zip', archive_name=f'{formatted_date}.csv')\n",
    "result.to_csv(\n",
    "    path_to_file, \n",
    "    index=False,\n",
    "    # compression=compression_opts\n",
    "    )"
   ]
  },
  {
   "cell_type": "code",
   "execution_count": 82,
   "metadata": {},
   "outputs": [],
   "source": [
    "def detect_bag(featurs: str):\n",
    "    if featurs is None:\n",
    "        return False\n",
    "    try:\n",
    "        float(featurs)\n",
    "        return False\n",
    "    except:\n",
    "        return True"
   ]
  },
  {
   "cell_type": "code",
   "execution_count": 83,
   "metadata": {},
   "outputs": [],
   "source": [
    "result['ошибка'] = result['Цена по карте'].apply(detect_bag)"
   ]
  },
  {
   "cell_type": "code",
   "execution_count": 90,
   "metadata": {},
   "outputs": [
    {
     "data": {
      "text/html": [
       "<div>\n",
       "<style scoped>\n",
       "    .dataframe tbody tr th:only-of-type {\n",
       "        vertical-align: middle;\n",
       "    }\n",
       "\n",
       "    .dataframe tbody tr th {\n",
       "        vertical-align: top;\n",
       "    }\n",
       "\n",
       "    .dataframe thead th {\n",
       "        text-align: right;\n",
       "    }\n",
       "</style>\n",
       "<table border=\"1\" class=\"dataframe\">\n",
       "  <thead>\n",
       "    <tr style=\"text-align: right;\">\n",
       "      <th></th>\n",
       "      <th>Категория</th>\n",
       "      <th>Название</th>\n",
       "      <th>Страна</th>\n",
       "      <th>Скидка</th>\n",
       "      <th>Цена</th>\n",
       "      <th>Цена по карте</th>\n",
       "    </tr>\n",
       "  </thead>\n",
       "  <tbody>\n",
       "    <tr>\n",
       "      <th>26233</th>\n",
       "      <td>Спорт и активный отдых</td>\n",
       "      <td>Зажигалка 365 ДНЕЙ Газовая одноразовая</td>\n",
       "      <td>Китай</td>\n",
       "      <td>None</td>\n",
       "      <td>NaN</td>\n",
       "      <td>NaN</td>\n",
       "    </tr>\n",
       "    <tr>\n",
       "      <th>30533</th>\n",
       "      <td>Канцелярия и печатная продукция</td>\n",
       "      <td>Купон лотерейный Спорт Русское лото малый</td>\n",
       "      <td>Россия</td>\n",
       "      <td>None</td>\n",
       "      <td>NaN</td>\n",
       "      <td>NaN</td>\n",
       "    </tr>\n",
       "  </tbody>\n",
       "</table>\n",
       "</div>"
      ],
      "text/plain": [
       "                             Категория  \\\n",
       "26233           Спорт и активный отдых   \n",
       "30533  Канцелярия и печатная продукция   \n",
       "\n",
       "                                        Название  Страна Скидка  Цена  \\\n",
       "26233     Зажигалка 365 ДНЕЙ Газовая одноразовая   Китай   None   NaN   \n",
       "30533  Купон лотерейный Спорт Русское лото малый  Россия   None   NaN   \n",
       "\n",
       "       Цена по карте  \n",
       "26233            NaN  \n",
       "30533            NaN  "
      ]
     },
     "execution_count": 90,
     "metadata": {},
     "output_type": "execute_result"
    }
   ],
   "source": [
    "mask = result['Цена'].isnull()\n",
    "# test = result[mask].loc[35, 'Цена']\n",
    "result[mask]\n",
    "# test"
   ]
  }
 ],
 "metadata": {
  "kernelspec": {
   "display_name": "Python 3",
   "language": "python",
   "name": "python3"
  },
  "language_info": {
   "codemirror_mode": {
    "name": "ipython",
    "version": 3
   },
   "file_extension": ".py",
   "mimetype": "text/x-python",
   "name": "python",
   "nbconvert_exporter": "python",
   "pygments_lexer": "ipython3",
   "version": "3.11.3"
  },
  "orig_nbformat": 4
 },
 "nbformat": 4,
 "nbformat_minor": 2
}
